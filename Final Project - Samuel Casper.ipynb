{
 "cells": [
  {
   "cell_type": "markdown",
   "id": "49bb342e",
   "metadata": {},
   "source": [
    "# An Anlysis of COVID-19 Data for Nigeria in 2020\n",
    "#### Author: Samuel Casper  \n",
    "#### Organization: James Madison University\n",
    "## Background of COVID-19\n",
    "Covid-19 is a relatively new strain of the coronavirus. It started in Wuhan, China, in December of 2019. In March of 2020, it was given the designation of a pandemic, due to its high rate of transmissions. Information for this section was gathered from [Center for Disease Control](https://www.cdc.gov/coronavirus/2019-ncov/your-health/about-covid-19/basics-covid-19.html#:~:text=Print-,About%20COVID%2D19,%2C%20a%20flu%2C%20or%20pneumonia.)"
   ]
  },
  {
   "cell_type": "markdown",
   "id": "dd1d1865",
   "metadata": {},
   "source": [
    "The data used in the following charts and graphs is from [European Center for Disease Control](https://www.ecdc.europa.eu/en/publications-data/download-todays-data-geographic-distribution-covid-19-cases-worldwide)"
   ]
  },
  {
   "cell_type": "markdown",
   "id": "5c9e640e",
   "metadata": {},
   "source": [
    "![covid image](https://researchresearch-news-wordpress-media-live.s3.eu-west-1.amazonaws.com/2022/02/covid-19_vaccine_abuja_nigeria.jpg)\n",
    "\n",
    "#### Figure 1: Covid variant found in Nigeria could have been 'of concern'"
   ]
  },
  {
   "cell_type": "code",
   "execution_count": 23,
   "id": "fc5c4702",
   "metadata": {},
   "outputs": [],
   "source": [
    "%matplotlib inline\n",
    "import pandas"
   ]
  },
  {
   "cell_type": "markdown",
   "id": "e68d1617",
   "metadata": {},
   "source": [
    "## Project Overview\n",
    "#### Section 1. View of the data taken from the source Excel file\n",
    "#### Section 2. Answers to the following Questions:\n",
    "    - What was the Covid-19 death rate in Nigeria for the year 2020?\n",
    "    - How does Nigeria's Covid-19 death rate compare to the Covid-19 death rate of Africa as a whole?\n",
    "    - How does Nigeria compare to other countries in Africa in terms of the total number of Covid-19 related deaths in 2020?\n",
    "    - How does Nigeria compare to western countries like the United States regarding their trend of Covid-19 related                 deaths per month?\n",
    "#### Section 3. Explanation of Calculations\n",
    "#### Section 4. Conclusion"
   ]
  },
  {
   "cell_type": "markdown",
   "id": "a7265af7",
   "metadata": {},
   "source": [
    "## Quick View of the Data"
   ]
  },
  {
   "cell_type": "markdown",
   "id": "87f301b3",
   "metadata": {},
   "source": [
    "This is a look into the data gathered by 'Our World Data' in which it put great effort into gathering Covid-19 data from countries across the globe."
   ]
  },
  {
   "cell_type": "code",
   "execution_count": 26,
   "id": "7a751f60",
   "metadata": {},
   "outputs": [
    {
     "data": {
      "text/html": [
       "<div>\n",
       "<style scoped>\n",
       "    .dataframe tbody tr th:only-of-type {\n",
       "        vertical-align: middle;\n",
       "    }\n",
       "\n",
       "    .dataframe tbody tr th {\n",
       "        vertical-align: top;\n",
       "    }\n",
       "\n",
       "    .dataframe thead th {\n",
       "        text-align: right;\n",
       "    }\n",
       "</style>\n",
       "<table border=\"1\" class=\"dataframe\">\n",
       "  <thead>\n",
       "    <tr style=\"text-align: right;\">\n",
       "      <th></th>\n",
       "      <th>dateRep</th>\n",
       "      <th>day</th>\n",
       "      <th>month</th>\n",
       "      <th>year</th>\n",
       "      <th>cases</th>\n",
       "      <th>deaths</th>\n",
       "      <th>countriesAndTerritories</th>\n",
       "      <th>geoId</th>\n",
       "      <th>countryterritoryCode</th>\n",
       "      <th>popData2019</th>\n",
       "      <th>continentExp</th>\n",
       "      <th>Cumulative_number_for_14_days_of_COVID-19_cases_per_100000</th>\n",
       "    </tr>\n",
       "  </thead>\n",
       "  <tbody>\n",
       "    <tr>\n",
       "      <th>0</th>\n",
       "      <td>14/12/2020</td>\n",
       "      <td>14</td>\n",
       "      <td>12</td>\n",
       "      <td>2020</td>\n",
       "      <td>746</td>\n",
       "      <td>6</td>\n",
       "      <td>Afghanistan</td>\n",
       "      <td>AF</td>\n",
       "      <td>AFG</td>\n",
       "      <td>38041757.0</td>\n",
       "      <td>Asia</td>\n",
       "      <td>9.013779</td>\n",
       "    </tr>\n",
       "    <tr>\n",
       "      <th>1</th>\n",
       "      <td>13/12/2020</td>\n",
       "      <td>13</td>\n",
       "      <td>12</td>\n",
       "      <td>2020</td>\n",
       "      <td>298</td>\n",
       "      <td>9</td>\n",
       "      <td>Afghanistan</td>\n",
       "      <td>AF</td>\n",
       "      <td>AFG</td>\n",
       "      <td>38041757.0</td>\n",
       "      <td>Asia</td>\n",
       "      <td>7.052776</td>\n",
       "    </tr>\n",
       "    <tr>\n",
       "      <th>2</th>\n",
       "      <td>2020-12-12 00:00:00</td>\n",
       "      <td>12</td>\n",
       "      <td>12</td>\n",
       "      <td>2020</td>\n",
       "      <td>113</td>\n",
       "      <td>11</td>\n",
       "      <td>Afghanistan</td>\n",
       "      <td>AF</td>\n",
       "      <td>AFG</td>\n",
       "      <td>38041757.0</td>\n",
       "      <td>Asia</td>\n",
       "      <td>6.868768</td>\n",
       "    </tr>\n",
       "    <tr>\n",
       "      <th>3</th>\n",
       "      <td>2020-11-12 00:00:00</td>\n",
       "      <td>11</td>\n",
       "      <td>12</td>\n",
       "      <td>2020</td>\n",
       "      <td>63</td>\n",
       "      <td>10</td>\n",
       "      <td>Afghanistan</td>\n",
       "      <td>AF</td>\n",
       "      <td>AFG</td>\n",
       "      <td>38041757.0</td>\n",
       "      <td>Asia</td>\n",
       "      <td>7.134266</td>\n",
       "    </tr>\n",
       "    <tr>\n",
       "      <th>4</th>\n",
       "      <td>2020-10-12 00:00:00</td>\n",
       "      <td>10</td>\n",
       "      <td>12</td>\n",
       "      <td>2020</td>\n",
       "      <td>202</td>\n",
       "      <td>16</td>\n",
       "      <td>Afghanistan</td>\n",
       "      <td>AF</td>\n",
       "      <td>AFG</td>\n",
       "      <td>38041757.0</td>\n",
       "      <td>Asia</td>\n",
       "      <td>6.968658</td>\n",
       "    </tr>\n",
       "    <tr>\n",
       "      <th>5</th>\n",
       "      <td>2020-09-12 00:00:00</td>\n",
       "      <td>9</td>\n",
       "      <td>12</td>\n",
       "      <td>2020</td>\n",
       "      <td>135</td>\n",
       "      <td>13</td>\n",
       "      <td>Afghanistan</td>\n",
       "      <td>AF</td>\n",
       "      <td>AFG</td>\n",
       "      <td>38041757.0</td>\n",
       "      <td>Asia</td>\n",
       "      <td>6.963401</td>\n",
       "    </tr>\n",
       "    <tr>\n",
       "      <th>6</th>\n",
       "      <td>2020-08-12 00:00:00</td>\n",
       "      <td>8</td>\n",
       "      <td>12</td>\n",
       "      <td>2020</td>\n",
       "      <td>200</td>\n",
       "      <td>6</td>\n",
       "      <td>Afghanistan</td>\n",
       "      <td>AF</td>\n",
       "      <td>AFG</td>\n",
       "      <td>38041757.0</td>\n",
       "      <td>Asia</td>\n",
       "      <td>7.094835</td>\n",
       "    </tr>\n",
       "    <tr>\n",
       "      <th>7</th>\n",
       "      <td>2020-07-12 00:00:00</td>\n",
       "      <td>7</td>\n",
       "      <td>12</td>\n",
       "      <td>2020</td>\n",
       "      <td>210</td>\n",
       "      <td>26</td>\n",
       "      <td>Afghanistan</td>\n",
       "      <td>AF</td>\n",
       "      <td>AFG</td>\n",
       "      <td>38041757.0</td>\n",
       "      <td>Asia</td>\n",
       "      <td>7.215755</td>\n",
       "    </tr>\n",
       "    <tr>\n",
       "      <th>8</th>\n",
       "      <td>2020-06-12 00:00:00</td>\n",
       "      <td>6</td>\n",
       "      <td>12</td>\n",
       "      <td>2020</td>\n",
       "      <td>234</td>\n",
       "      <td>10</td>\n",
       "      <td>Afghanistan</td>\n",
       "      <td>AF</td>\n",
       "      <td>AFG</td>\n",
       "      <td>38041757.0</td>\n",
       "      <td>Asia</td>\n",
       "      <td>7.326160</td>\n",
       "    </tr>\n",
       "    <tr>\n",
       "      <th>9</th>\n",
       "      <td>2020-05-12 00:00:00</td>\n",
       "      <td>5</td>\n",
       "      <td>12</td>\n",
       "      <td>2020</td>\n",
       "      <td>235</td>\n",
       "      <td>18</td>\n",
       "      <td>Afghanistan</td>\n",
       "      <td>AF</td>\n",
       "      <td>AFG</td>\n",
       "      <td>38041757.0</td>\n",
       "      <td>Asia</td>\n",
       "      <td>7.115865</td>\n",
       "    </tr>\n",
       "  </tbody>\n",
       "</table>\n",
       "</div>"
      ],
      "text/plain": [
       "               dateRep  day  month  year  cases  deaths  \\\n",
       "0           14/12/2020   14     12  2020    746       6   \n",
       "1           13/12/2020   13     12  2020    298       9   \n",
       "2  2020-12-12 00:00:00   12     12  2020    113      11   \n",
       "3  2020-11-12 00:00:00   11     12  2020     63      10   \n",
       "4  2020-10-12 00:00:00   10     12  2020    202      16   \n",
       "5  2020-09-12 00:00:00    9     12  2020    135      13   \n",
       "6  2020-08-12 00:00:00    8     12  2020    200       6   \n",
       "7  2020-07-12 00:00:00    7     12  2020    210      26   \n",
       "8  2020-06-12 00:00:00    6     12  2020    234      10   \n",
       "9  2020-05-12 00:00:00    5     12  2020    235      18   \n",
       "\n",
       "  countriesAndTerritories geoId countryterritoryCode  popData2019  \\\n",
       "0             Afghanistan    AF                  AFG   38041757.0   \n",
       "1             Afghanistan    AF                  AFG   38041757.0   \n",
       "2             Afghanistan    AF                  AFG   38041757.0   \n",
       "3             Afghanistan    AF                  AFG   38041757.0   \n",
       "4             Afghanistan    AF                  AFG   38041757.0   \n",
       "5             Afghanistan    AF                  AFG   38041757.0   \n",
       "6             Afghanistan    AF                  AFG   38041757.0   \n",
       "7             Afghanistan    AF                  AFG   38041757.0   \n",
       "8             Afghanistan    AF                  AFG   38041757.0   \n",
       "9             Afghanistan    AF                  AFG   38041757.0   \n",
       "\n",
       "  continentExp  Cumulative_number_for_14_days_of_COVID-19_cases_per_100000  \n",
       "0         Asia                                           9.013779           \n",
       "1         Asia                                           7.052776           \n",
       "2         Asia                                           6.868768           \n",
       "3         Asia                                           7.134266           \n",
       "4         Asia                                           6.968658           \n",
       "5         Asia                                           6.963401           \n",
       "6         Asia                                           7.094835           \n",
       "7         Asia                                           7.215755           \n",
       "8         Asia                                           7.326160           \n",
       "9         Asia                                           7.115865           "
      ]
     },
     "execution_count": 26,
     "metadata": {},
     "output_type": "execute_result"
    }
   ],
   "source": [
    "df = pandas.read_excel('s3://casper-ia241-2022spring/covid_data.xls')\n",
    "df[:10]"
   ]
  },
  {
   "cell_type": "markdown",
   "id": "86badb85",
   "metadata": {},
   "source": [
    "## List of All the Countries Included in the Data\n",
    "This is a look into all the countries that were sampled in this data set"
   ]
  },
  {
   "cell_type": "code",
   "execution_count": 31,
   "id": "bd05299e",
   "metadata": {},
   "outputs": [
    {
     "data": {
      "text/plain": [
       "array(['Afghanistan', 'Albania', 'Algeria', 'Andorra', 'Angola',\n",
       "       'Anguilla', 'Antigua_and_Barbuda', 'Argentina', 'Armenia', 'Aruba',\n",
       "       'Australia', 'Austria', 'Azerbaijan', 'Bahamas', 'Bahrain',\n",
       "       'Bangladesh', 'Barbados', 'Belarus', 'Belgium', 'Belize', 'Benin',\n",
       "       'Bermuda', 'Bhutan', 'Bolivia',\n",
       "       'Bonaire, Saint Eustatius and Saba', 'Bosnia_and_Herzegovina',\n",
       "       'Botswana', 'Brazil', 'British_Virgin_Islands',\n",
       "       'Brunei_Darussalam', 'Bulgaria', 'Burkina_Faso', 'Burundi',\n",
       "       'Cambodia', 'Cameroon', 'Canada', 'Cape_Verde',\n",
       "       'Cases_on_an_international_conveyance_Japan', 'Cayman_Islands',\n",
       "       'Central_African_Republic', 'Chad', 'Chile', 'China', 'Colombia',\n",
       "       'Comoros', 'Congo', 'Costa_Rica', 'Cote_dIvoire', 'Croatia',\n",
       "       'Cuba', 'CuraÃ§ao', 'Cyprus', 'Czechia',\n",
       "       'Democratic_Republic_of_the_Congo', 'Denmark', 'Djibouti',\n",
       "       'Dominica', 'Dominican_Republic', 'Ecuador', 'Egypt',\n",
       "       'El_Salvador', 'Equatorial_Guinea', 'Eritrea', 'Estonia',\n",
       "       'Eswatini', 'Ethiopia', 'Falkland_Islands_(Malvinas)',\n",
       "       'Faroe_Islands', 'Fiji', 'Finland', 'France', 'French_Polynesia',\n",
       "       'Gabon', 'Gambia', 'Georgia', 'Germany', 'Ghana', 'Gibraltar',\n",
       "       'Greece', 'Greenland', 'Grenada', 'Guam', 'Guatemala', 'Guernsey',\n",
       "       'Guinea', 'Guinea_Bissau', 'Guyana', 'Haiti', 'Holy_See',\n",
       "       'Honduras', 'Hungary', 'Iceland', 'India', 'Indonesia', 'Iran',\n",
       "       'Iraq', 'Ireland', 'Isle_of_Man', 'Israel', 'Italy', 'Jamaica',\n",
       "       'Japan', 'Jersey', 'Jordan', 'Kazakhstan', 'Kenya', 'Kosovo',\n",
       "       'Kuwait', 'Kyrgyzstan', 'Laos', 'Latvia', 'Lebanon', 'Lesotho',\n",
       "       'Liberia', 'Libya', 'Liechtenstein', 'Lithuania', 'Luxembourg',\n",
       "       'Madagascar', 'Malawi', 'Malaysia', 'Maldives', 'Mali', 'Malta',\n",
       "       'Marshall_Islands', 'Mauritania', 'Mauritius', 'Mexico', 'Moldova',\n",
       "       'Monaco', 'Mongolia', 'Montenegro', 'Montserrat', 'Morocco',\n",
       "       'Mozambique', 'Myanmar', 'Namibia', 'Nepal', 'Netherlands',\n",
       "       'New_Caledonia', 'New_Zealand', 'Nicaragua', 'Niger', 'Nigeria',\n",
       "       'North_Macedonia', 'Northern_Mariana_Islands', 'Norway', 'Oman',\n",
       "       'Pakistan', 'Palestine', 'Panama', 'Papua_New_Guinea', 'Paraguay',\n",
       "       'Peru', 'Philippines', 'Poland', 'Portugal', 'Puerto_Rico',\n",
       "       'Qatar', 'Romania', 'Russia', 'Rwanda', 'Saint_Kitts_and_Nevis',\n",
       "       'Saint_Lucia', 'Saint_Vincent_and_the_Grenadines', 'San_Marino',\n",
       "       'Sao_Tome_and_Principe', 'Saudi_Arabia', 'Senegal', 'Serbia',\n",
       "       'Seychelles', 'Sierra_Leone', 'Singapore', 'Sint_Maarten',\n",
       "       'Slovakia', 'Slovenia', 'Solomon_Islands', 'Somalia',\n",
       "       'South_Africa', 'South_Korea', 'South_Sudan', 'Spain', 'Sri_Lanka',\n",
       "       'Sudan', 'Suriname', 'Sweden', 'Switzerland', 'Syria', 'Taiwan',\n",
       "       'Tajikistan', 'Thailand', 'Timor_Leste', 'Togo',\n",
       "       'Trinidad_and_Tobago', 'Tunisia', 'Turkey',\n",
       "       'Turks_and_Caicos_islands', 'Uganda', 'Ukraine',\n",
       "       'United_Arab_Emirates', 'United_Kingdom',\n",
       "       'United_Republic_of_Tanzania', 'United_States_of_America',\n",
       "       'United_States_Virgin_Islands', 'Uruguay', 'Uzbekistan', 'Vanuatu',\n",
       "       'Venezuela', 'Vietnam', 'Wallis_and_Futuna', 'Western_Sahara',\n",
       "       'Yemen', 'Zambia', 'Zimbabwe'], dtype=object)"
      ]
     },
     "execution_count": 31,
     "metadata": {},
     "output_type": "execute_result"
    }
   ],
   "source": [
    "pandas.unique(df['countriesAndTerritories'])"
   ]
  },
  {
   "cell_type": "markdown",
   "id": "7ce4bb40",
   "metadata": {},
   "source": [
    "## Quick View of the Data for Nigeria\n",
    "This is a look into the Data gathered from the source (Our World in Data), specifically focusing on the country of Nigeria."
   ]
  },
  {
   "cell_type": "code",
   "execution_count": 46,
   "id": "7dcfb527",
   "metadata": {},
   "outputs": [
    {
     "data": {
      "text/html": [
       "<div>\n",
       "<style scoped>\n",
       "    .dataframe tbody tr th:only-of-type {\n",
       "        vertical-align: middle;\n",
       "    }\n",
       "\n",
       "    .dataframe tbody tr th {\n",
       "        vertical-align: top;\n",
       "    }\n",
       "\n",
       "    .dataframe thead th {\n",
       "        text-align: right;\n",
       "    }\n",
       "</style>\n",
       "<table border=\"1\" class=\"dataframe\">\n",
       "  <thead>\n",
       "    <tr style=\"text-align: right;\">\n",
       "      <th></th>\n",
       "      <th>dateRep</th>\n",
       "      <th>day</th>\n",
       "      <th>month</th>\n",
       "      <th>year</th>\n",
       "      <th>cases</th>\n",
       "      <th>deaths</th>\n",
       "      <th>countriesAndTerritories</th>\n",
       "      <th>geoId</th>\n",
       "      <th>countryterritoryCode</th>\n",
       "      <th>popData2019</th>\n",
       "      <th>continentExp</th>\n",
       "      <th>Cumulative_number_for_14_days_of_COVID-19_cases_per_100000</th>\n",
       "    </tr>\n",
       "  </thead>\n",
       "  <tbody>\n",
       "    <tr>\n",
       "      <th>41678</th>\n",
       "      <td>14/12/2020</td>\n",
       "      <td>14</td>\n",
       "      <td>12</td>\n",
       "      <td>2020</td>\n",
       "      <td>418</td>\n",
       "      <td>3</td>\n",
       "      <td>Nigeria</td>\n",
       "      <td>NG</td>\n",
       "      <td>NGA</td>\n",
       "      <td>200963603.0</td>\n",
       "      <td>Africa</td>\n",
       "      <td>2.867683</td>\n",
       "    </tr>\n",
       "    <tr>\n",
       "      <th>41679</th>\n",
       "      <td>13/12/2020</td>\n",
       "      <td>13</td>\n",
       "      <td>12</td>\n",
       "      <td>2020</td>\n",
       "      <td>617</td>\n",
       "      <td>4</td>\n",
       "      <td>Nigeria</td>\n",
       "      <td>NG</td>\n",
       "      <td>NGA</td>\n",
       "      <td>200963603.0</td>\n",
       "      <td>Africa</td>\n",
       "      <td>2.700489</td>\n",
       "    </tr>\n",
       "    <tr>\n",
       "      <th>41680</th>\n",
       "      <td>2020-12-12 00:00:00</td>\n",
       "      <td>12</td>\n",
       "      <td>12</td>\n",
       "      <td>2020</td>\n",
       "      <td>796</td>\n",
       "      <td>0</td>\n",
       "      <td>Nigeria</td>\n",
       "      <td>NG</td>\n",
       "      <td>NGA</td>\n",
       "      <td>200963603.0</td>\n",
       "      <td>Africa</td>\n",
       "      <td>2.448205</td>\n",
       "    </tr>\n",
       "    <tr>\n",
       "      <th>41681</th>\n",
       "      <td>2020-11-12 00:00:00</td>\n",
       "      <td>11</td>\n",
       "      <td>12</td>\n",
       "      <td>2020</td>\n",
       "      <td>675</td>\n",
       "      <td>6</td>\n",
       "      <td>Nigeria</td>\n",
       "      <td>NG</td>\n",
       "      <td>NGA</td>\n",
       "      <td>200963603.0</td>\n",
       "      <td>Africa</td>\n",
       "      <td>2.174523</td>\n",
       "    </tr>\n",
       "    <tr>\n",
       "      <th>41682</th>\n",
       "      <td>2020-10-12 00:00:00</td>\n",
       "      <td>10</td>\n",
       "      <td>12</td>\n",
       "      <td>2020</td>\n",
       "      <td>474</td>\n",
       "      <td>2</td>\n",
       "      <td>Nigeria</td>\n",
       "      <td>NG</td>\n",
       "      <td>NGA</td>\n",
       "      <td>200963603.0</td>\n",
       "      <td>Africa</td>\n",
       "      <td>1.922736</td>\n",
       "    </tr>\n",
       "    <tr>\n",
       "      <th>41683</th>\n",
       "      <td>2020-09-12 00:00:00</td>\n",
       "      <td>9</td>\n",
       "      <td>12</td>\n",
       "      <td>2020</td>\n",
       "      <td>550</td>\n",
       "      <td>1</td>\n",
       "      <td>Nigeria</td>\n",
       "      <td>NG</td>\n",
       "      <td>NGA</td>\n",
       "      <td>200963603.0</td>\n",
       "      <td>Africa</td>\n",
       "      <td>1.785398</td>\n",
       "    </tr>\n",
       "    <tr>\n",
       "      <th>41684</th>\n",
       "      <td>2020-08-12 00:00:00</td>\n",
       "      <td>8</td>\n",
       "      <td>12</td>\n",
       "      <td>2020</td>\n",
       "      <td>390</td>\n",
       "      <td>1</td>\n",
       "      <td>Nigeria</td>\n",
       "      <td>NG</td>\n",
       "      <td>NGA</td>\n",
       "      <td>200963603.0</td>\n",
       "      <td>Africa</td>\n",
       "      <td>1.595314</td>\n",
       "    </tr>\n",
       "    <tr>\n",
       "      <th>41685</th>\n",
       "      <td>2020-07-12 00:00:00</td>\n",
       "      <td>7</td>\n",
       "      <td>12</td>\n",
       "      <td>2020</td>\n",
       "      <td>318</td>\n",
       "      <td>0</td>\n",
       "      <td>Nigeria</td>\n",
       "      <td>NG</td>\n",
       "      <td>NGA</td>\n",
       "      <td>200963603.0</td>\n",
       "      <td>Africa</td>\n",
       "      <td>1.429115</td>\n",
       "    </tr>\n",
       "    <tr>\n",
       "      <th>41686</th>\n",
       "      <td>2020-06-12 00:00:00</td>\n",
       "      <td>6</td>\n",
       "      <td>12</td>\n",
       "      <td>2020</td>\n",
       "      <td>310</td>\n",
       "      <td>1</td>\n",
       "      <td>Nigeria</td>\n",
       "      <td>NG</td>\n",
       "      <td>NGA</td>\n",
       "      <td>200963603.0</td>\n",
       "      <td>Africa</td>\n",
       "      <td>1.348005</td>\n",
       "    </tr>\n",
       "    <tr>\n",
       "      <th>41687</th>\n",
       "      <td>2020-05-12 00:00:00</td>\n",
       "      <td>5</td>\n",
       "      <td>12</td>\n",
       "      <td>2020</td>\n",
       "      <td>324</td>\n",
       "      <td>0</td>\n",
       "      <td>Nigeria</td>\n",
       "      <td>NG</td>\n",
       "      <td>NGA</td>\n",
       "      <td>200963603.0</td>\n",
       "      <td>Africa</td>\n",
       "      <td>1.316159</td>\n",
       "    </tr>\n",
       "  </tbody>\n",
       "</table>\n",
       "</div>"
      ],
      "text/plain": [
       "                   dateRep  day  month  year  cases  deaths  \\\n",
       "41678           14/12/2020   14     12  2020    418       3   \n",
       "41679           13/12/2020   13     12  2020    617       4   \n",
       "41680  2020-12-12 00:00:00   12     12  2020    796       0   \n",
       "41681  2020-11-12 00:00:00   11     12  2020    675       6   \n",
       "41682  2020-10-12 00:00:00   10     12  2020    474       2   \n",
       "41683  2020-09-12 00:00:00    9     12  2020    550       1   \n",
       "41684  2020-08-12 00:00:00    8     12  2020    390       1   \n",
       "41685  2020-07-12 00:00:00    7     12  2020    318       0   \n",
       "41686  2020-06-12 00:00:00    6     12  2020    310       1   \n",
       "41687  2020-05-12 00:00:00    5     12  2020    324       0   \n",
       "\n",
       "      countriesAndTerritories geoId countryterritoryCode  popData2019  \\\n",
       "41678                 Nigeria    NG                  NGA  200963603.0   \n",
       "41679                 Nigeria    NG                  NGA  200963603.0   \n",
       "41680                 Nigeria    NG                  NGA  200963603.0   \n",
       "41681                 Nigeria    NG                  NGA  200963603.0   \n",
       "41682                 Nigeria    NG                  NGA  200963603.0   \n",
       "41683                 Nigeria    NG                  NGA  200963603.0   \n",
       "41684                 Nigeria    NG                  NGA  200963603.0   \n",
       "41685                 Nigeria    NG                  NGA  200963603.0   \n",
       "41686                 Nigeria    NG                  NGA  200963603.0   \n",
       "41687                 Nigeria    NG                  NGA  200963603.0   \n",
       "\n",
       "      continentExp  Cumulative_number_for_14_days_of_COVID-19_cases_per_100000  \n",
       "41678       Africa                                           2.867683           \n",
       "41679       Africa                                           2.700489           \n",
       "41680       Africa                                           2.448205           \n",
       "41681       Africa                                           2.174523           \n",
       "41682       Africa                                           1.922736           \n",
       "41683       Africa                                           1.785398           \n",
       "41684       Africa                                           1.595314           \n",
       "41685       Africa                                           1.429115           \n",
       "41686       Africa                                           1.348005           \n",
       "41687       Africa                                           1.316159           "
      ]
     },
     "execution_count": 46,
     "metadata": {},
     "output_type": "execute_result"
    }
   ],
   "source": [
    "Nigeria_data = df.loc[ df['countriesAndTerritories']=='Nigeria' ]\n",
    "\n",
    "Nigeria_data[:10]"
   ]
  },
  {
   "cell_type": "markdown",
   "id": "2b2ebe2b",
   "metadata": {},
   "source": [
    "## Relationship Between Total Number of Cases and Total Number of Deaths\n",
    "#### The Total Number of Covid-19 Cases in Nigeria in 2020"
   ]
  },
  {
   "cell_type": "code",
   "execution_count": 28,
   "id": "1199da1c",
   "metadata": {},
   "outputs": [
    {
     "data": {
      "text/plain": [
       "73175"
      ]
     },
     "execution_count": 28,
     "metadata": {},
     "output_type": "execute_result"
    }
   ],
   "source": [
    "Nigeria_data.sum()['cases']"
   ]
  },
  {
   "cell_type": "markdown",
   "id": "859a11f5",
   "metadata": {},
   "source": [
    "#### The Total Number of Covid-19 Related Deaths in Nigeria in 2020"
   ]
  },
  {
   "cell_type": "code",
   "execution_count": 30,
   "id": "923e284b",
   "metadata": {},
   "outputs": [
    {
     "data": {
      "text/plain": [
       "1197"
      ]
     },
     "execution_count": 30,
     "metadata": {},
     "output_type": "execute_result"
    }
   ],
   "source": [
    "Nigeria_data.sum()['deaths']"
   ]
  },
  {
   "cell_type": "markdown",
   "id": "595a1e2f",
   "metadata": {},
   "source": [
    "#### Relationship Between Total Number of Cases and Total Number of Deaths (Nigeria's Death Rate)"
   ]
  },
  {
   "cell_type": "code",
   "execution_count": 55,
   "id": "45afb01f",
   "metadata": {},
   "outputs": [
    {
     "data": {
      "text/plain": [
       "<AxesSubplot:xlabel='cases', ylabel='deaths'>"
      ]
     },
     "execution_count": 55,
     "metadata": {},
     "output_type": "execute_result"
    },
    {
     "data": {
      "image/png": "[encoded data removed]",
      "text/plain": [
       "<Figure size 432x288 with 2 Axes>"
      ]
     },
     "metadata": {
      "needs_background": "light"
     },
     "output_type": "display_data"
    }
   ],
   "source": [
    "Nigeria_data.plot.scatter(x='cases',y='deaths',c='month')"
   ]
  },
  {
   "cell_type": "markdown",
   "id": "b68de6b3",
   "metadata": {},
   "source": [
    "This scatterplot shows the relationship between the total number of deaths correlated with Covid-19 and the total number Covid-19 cases in Nigeria in 2020, with this relationship being further defined as the cases are sorted out by month. "
   ]
  },
  {
   "cell_type": "markdown",
   "id": "ddbd8458",
   "metadata": {},
   "source": [
    "## Nigeria's Death Rate in Comparison to The Overall Death Rate in Africa"
   ]
  },
  {
   "cell_type": "markdown",
   "id": "272d6425",
   "metadata": {},
   "source": [
    "#### Africa's Covid-19 Death Rate"
   ]
  },
  {
   "cell_type": "code",
   "execution_count": 48,
   "id": "2b9dcbdd",
   "metadata": {},
   "outputs": [],
   "source": [
    "Africa_data = df.loc[ df['continentExp']=='Africa' ]"
   ]
  },
  {
   "cell_type": "code",
   "execution_count": 49,
   "id": "1afd7b25",
   "metadata": {},
   "outputs": [
    {
     "data": {
      "text/plain": [
       "<AxesSubplot:xlabel='cases', ylabel='deaths'>"
      ]
     },
     "execution_count": 49,
     "metadata": {},
     "output_type": "execute_result"
    },
    {
     "data": {
      "image/png": "[encoded data removed]",
      "text/plain": [
       "<Figure size 432x288 with 2 Axes>"
      ]
     },
     "metadata": {
      "needs_background": "light"
     },
     "output_type": "display_data"
    }
   ],
   "source": [
    "Africa_data.plot.scatter(x='cases',y='deaths',c='month')"
   ]
  },
  {
   "cell_type": "markdown",
   "id": "fd567079",
   "metadata": {},
   "source": [
    "This scatterplot shows the death rate in Africa as a whole. As seen in the scatterplots for both the death rate in Nigeria and Africa as a whole, Nigeria's death rate is similar to the rest of its neighboring African Countries."
   ]
  },
  {
   "cell_type": "markdown",
   "id": "d3d13520",
   "metadata": {},
   "source": [
    "#### Top 10 Countries in Africa by Total Number of Covid-19 Related Deaths"
   ]
  },
  {
   "cell_type": "code",
   "execution_count": 53,
   "id": "5aa87f71",
   "metadata": {},
   "outputs": [],
   "source": [
    "sum_deaths_per_country=Africa_data.groupby('countriesAndTerritories').sum()['deaths']"
   ]
  },
  {
   "cell_type": "code",
   "execution_count": 54,
   "id": "1f9490a1",
   "metadata": {},
   "outputs": [
    {
     "data": {
      "text/plain": [
       "<AxesSubplot:xlabel='countriesAndTerritories'>"
      ]
     },
     "execution_count": 54,
     "metadata": {},
     "output_type": "execute_result"
    },
    {
     "data": {
      "image/png": "[encoded data removed]",
      "text/plain": [
       "<Figure size 432x288 with 1 Axes>"
      ]
     },
     "metadata": {
      "needs_background": "light"
     },
     "output_type": "display_data"
    }
   ],
   "source": [
    "sum_deaths_per_country.nlargest(10).plot.bar()"
   ]
  },
  {
   "cell_type": "markdown",
   "id": "7f52e2ba",
   "metadata": {},
   "source": [
    "This bar graph shows the top 10 countries in Africa by the total number of Covid-19 related deaths in 2020. As depicted in the graph, of all the countries in Africa, Nigeria had the tenth highest number of Covid-19 related deaths in 2020. While that may seem high, that statistic must be put into perspective. Nigeria is the highest populated country in Africa, with it having a population over 206 million in 2020, and the next most populated country being Ethiopia with a population close to 115 million. So, while Nigeria was the tenth highest in Covid-19 related deaths in Africa for the year 2020, that does not mean that Nigeria was one of the worst in containing the severity of Covid-19. In fact, its low placement on the list of top countries by Covid-19 related deaths, when put into the perspective of its placement as the most populated country in Africa, shows that Nigeria did a good job at containing the severity of Covid-19 in relation to a majority of the sampled countries in Africa. \n",
    "\n",
    "Information for this section was gathered from [Statista](https://www.statista.com/statistics/1121246/population-in-africa-by-country/)"
   ]
  },
  {
   "cell_type": "markdown",
   "id": "f2f6ae46",
   "metadata": {},
   "source": [
    "## Nigeria's Covid-19 Related Deaths in Comparison to the United States\n",
    "#### Covid-19 Related Deaths per Month in Nigeria in 2020"
   ]
  },
  {
   "cell_type": "code",
   "execution_count": 50,
   "id": "e4174b7c",
   "metadata": {},
   "outputs": [],
   "source": [
    "sum_deaths_per_day=Nigeria_data.groupby('month').sum()['deaths']"
   ]
  },
  {
   "cell_type": "code",
   "execution_count": 51,
   "id": "85e2910e",
   "metadata": {},
   "outputs": [
    {
     "data": {
      "text/plain": [
       "<AxesSubplot:xlabel='month'>"
      ]
     },
     "execution_count": 51,
     "metadata": {},
     "output_type": "execute_result"
    },
    {
     "data": {
      "image/png": "[encoded data removed]",
      "text/plain": [
       "<Figure size 432x288 with 1 Axes>"
      ]
     },
     "metadata": {
      "needs_background": "light"
     },
     "output_type": "display_data"
    }
   ],
   "source": [
    "sum_deaths_per_day.plot()"
   ]
  },
  {
   "cell_type": "markdown",
   "id": "4b48156f",
   "metadata": {},
   "source": [
    "This chart shows the number of deaths per month in Nigeria alone in 2020. By looking at the data depicted in the graph, you can see the drastic increase in the number of deaths between the months of March and April of 2020, with the number of deaths drastically decrasing between the months of July and October. "
   ]
  },
  {
   "cell_type": "markdown",
   "id": "8e6fe8b9",
   "metadata": {},
   "source": [
    "#### Covid-19 Related Deaths per Month in the United States in 2020"
   ]
  },
  {
   "cell_type": "code",
   "execution_count": 58,
   "id": "3d0dd7b0",
   "metadata": {},
   "outputs": [],
   "source": [
    "US_data = df.loc[ df['countriesAndTerritories']=='United_States_of_America' ]"
   ]
  },
  {
   "cell_type": "code",
   "execution_count": 59,
   "id": "a30babac",
   "metadata": {},
   "outputs": [],
   "source": [
    "sum_deaths_per_day2=US_data.groupby('month').sum()['deaths']"
   ]
  },
  {
   "cell_type": "code",
   "execution_count": 60,
   "id": "f236c7dd",
   "metadata": {},
   "outputs": [
    {
     "data": {
      "text/plain": [
       "<AxesSubplot:xlabel='month'>"
      ]
     },
     "execution_count": 60,
     "metadata": {},
     "output_type": "execute_result"
    },
    {
     "data": {
      "image/png": "[encoded data removed]",
      "text/plain": [
       "<Figure size 432x288 with 1 Axes>"
      ]
     },
     "metadata": {
      "needs_background": "light"
     },
     "output_type": "display_data"
    }
   ],
   "source": [
    "sum_deaths_per_day2.plot()"
   ]
  },
  {
   "cell_type": "markdown",
   "id": "54799fd2",
   "metadata": {},
   "source": [
    "This chart shows the number of deaths per month in Nigeria alone in 2020. By looking at the data depicted in the graph, you can see the drastic increase in the number of deaths between the months of March and April of 2020. While their is a drastic decrease from May to June of 2020, that decrease is followed by a cycle of increased and decreased periods of covid-19 related deaths. "
   ]
  },
  {
   "cell_type": "markdown",
   "id": "93ce3f46",
   "metadata": {},
   "source": [
    "## Explanation of Calculations"
   ]
  },
  {
   "cell_type": "markdown",
   "id": "07e7571c",
   "metadata": {},
   "source": [
    "For my calculations I chose to import  the data for all the sampled countries and territories from the data set, and then I chose to narrow that down to data stemming from the country of Nigeria. From there, I proceeded to sort the data between total number of Covid-19 related deaths in Nigeria and total number of Covid-19 cases in Nigeria. This was done in order to determine the Covid-19 related death rate for Nigeria in the year 2020. I then gathered the data for the death rate of the African continent as a whole in order to compare that to the death rate of Nigeria. Following that comparison, I sorted the data for Nigeria by the \"month\" and \"deaths\" columns. I did this so I could find the trend of Covid-19 related deaths in Nigeria for 2020. I then did the same for data in relation to the United States so that I would be able to compare the trend in Nigeria to the trend in the United States.  "
   ]
  },
  {
   "cell_type": "markdown",
   "id": "eef31a0f",
   "metadata": {},
   "source": [
    "## Conclusion"
   ]
  },
  {
   "cell_type": "markdown",
   "id": "fb4fddb3",
   "metadata": {},
   "source": [
    "In conclusion, Nigeria's death rate (relationship betwen total number of deaths and total number of cases) is similar in comparison to the other sampled countries in the dataset that are in Africa. However, it can also be concluded that Nigeria experienced a less severe time with Covid-19 than other neighboring countries in Africa as the total number of deaths, when taken from the  total number of the country's  population, is drastically lower than a majority of the other countries in Africa. In addition, Nigeria, as seen from the data graphics, even experienced less volatility with the Covid-19 pandemic than the United States. So, while Nigeria was not the best in dealing with the lethality of the Covid-19 pandemic, they dealt with the pandemic better than many other African countries, and even the United States. "
   ]
  }
 ],
 "metadata": {
  "kernelspec": {
   "display_name": "conda_python3",
   "language": "python",
   "name": "conda_python3"
  },
  "language_info": {
   "codemirror_mode": {
    "name": "ipython",
    "version": 3
   },
   "file_extension": ".py",
   "mimetype": "text/x-python",
   "name": "python",
   "nbconvert_exporter": "python",
   "pygments_lexer": "ipython3",
   "version": "3.6.13"
  }
 },
 "nbformat": 4,
 "nbformat_minor": 5
}
